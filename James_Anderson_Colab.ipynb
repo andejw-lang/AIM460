{
  "nbformat": 4,
  "nbformat_minor": 0,
  "metadata": {
    "colab": {
      "provenance": [],
      "authorship_tag": "ABX9TyN0niIhfIsYhKhvre/pBKzC",
      "include_colab_link": true
    },
    "kernelspec": {
      "name": "python3",
      "display_name": "Python 3"
    },
    "language_info": {
      "name": "python"
    }
  },
  "cells": [
    {
      "cell_type": "markdown",
      "metadata": {
        "id": "view-in-github",
        "colab_type": "text"
      },
      "source": [
        "<a href=\"https://colab.research.google.com/github/andejw-lang/AIM460/blob/main/James_Anderson_Colab.ipynb\" target=\"_parent\"><img src=\"https://colab.research.google.com/assets/colab-badge.svg\" alt=\"Open In Colab\"/></a>"
      ]
    },
    {
      "cell_type": "code",
      "execution_count": 2,
      "metadata": {
        "id": "WrikqV90s_Hw",
        "colab": {
          "base_uri": "https://localhost:8080/"
        },
        "outputId": "0f145934-1744-4784-972c-555296c16a9b"
      },
      "outputs": [
        {
          "output_type": "stream",
          "name": "stdout",
          "text": [
            "Hello Wolrd\n"
          ]
        }
      ],
      "source": [
        "print (\"Hello Wolrd\")"
      ]
    },
    {
      "cell_type": "markdown",
      "source": [
        "James Anderson"
      ],
      "metadata": {
        "id": "4Ib7mxazkBFp"
      }
    }
  ]
}